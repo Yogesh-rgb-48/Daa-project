{
 "cells": [
  {
   "cell_type": "code",
   "execution_count": null,
   "id": "94927efb-c9d4-46fd-b4af-6bbeab190937",
   "metadata": {},
   "outputs": [
    {
     "name": "stdin",
     "output_type": "stream",
     "text": [
      "Enter 'search' to find a product, 'view' to see your cart, or 'exit' to quit:  search\n",
      "Enter product name to search:  Apple\n"
     ]
    },
    {
     "name": "stdout",
     "output_type": "stream",
     "text": [
      "Added Apple to your cart.\n"
     ]
    },
    {
     "name": "stdin",
     "output_type": "stream",
     "text": [
      "Enter 'search' to find a product, 'view' to see your cart, or 'exit' to quit:  search\n",
      "Enter product name to search:  Carrot\n"
     ]
    },
    {
     "name": "stdout",
     "output_type": "stream",
     "text": [
      "Added Carrot to your cart.\n"
     ]
    },
    {
     "name": "stdin",
     "output_type": "stream",
     "text": [
      "Enter 'search' to find a product, 'view' to see your cart, or 'exit' to quit:  view\n"
     ]
    },
    {
     "name": "stdout",
     "output_type": "stream",
     "text": [
      "Your cart contains:\n",
      "Apple - $1.00\n",
      "Carrot - $0.30\n",
      "Total: $1.30\n"
     ]
    },
    {
     "name": "stdin",
     "output_type": "stream",
     "text": [
      "Enter 'search' to find a product, 'view' to see your cart, or 'exit' to quit:  search\n",
      "Enter product name to search:  Eggplant\n"
     ]
    },
    {
     "name": "stdout",
     "output_type": "stream",
     "text": [
      "Added Eggplant to your cart.\n"
     ]
    },
    {
     "name": "stdin",
     "output_type": "stream",
     "text": [
      "Enter 'search' to find a product, 'view' to see your cart, or 'exit' to quit:  view\n"
     ]
    },
    {
     "name": "stdout",
     "output_type": "stream",
     "text": [
      "Your cart contains:\n",
      "Apple - $1.00\n",
      "Carrot - $0.30\n",
      "Eggplant - $2.00\n",
      "Total: $3.30\n"
     ]
    }
   ],
   "source": [
    "class ShoppingCart:\n",
    "    def __init__(self):\n",
    "        self.cart = []\n",
    "    \n",
    "    def add_item(self, product):\n",
    "        self.cart.append(product)\n",
    "    \n",
    "    def view_cart(self):\n",
    "        return self.cart\n",
    "    \n",
    "    def total_price(self):\n",
    "        return sum(item[\"price\"] for item in self.cart)\n",
    "\n",
    "def binary_search(products, target_name):\n",
    "    left, right = 0, len(products) - 1\n",
    "    while left <= right:\n",
    "        mid = (left + right) // 2\n",
    "        if products[mid][\"name\"] == target_name:\n",
    "            return mid\n",
    "        elif products[mid][\"name\"] < target_name:\n",
    "            left = mid + 1\n",
    "        else:\n",
    "            right = mid - 1\n",
    "    return -1\n",
    "\n",
    "def main():\n",
    "    # Pre-defined sorted product list\n",
    "    products = [\n",
    "        {\"name\": \"Apple\", \"price\": 1.0},\n",
    "        {\"name\": \"Banana\", \"price\": 0.5},\n",
    "        {\"name\": \"Carrot\", \"price\": 0.3},\n",
    "        {\"name\": \"Date\", \"price\": 1.5},\n",
    "        {\"name\": \"Eggplant\", \"price\": 2.0}\n",
    "    ]\n",
    "\n",
    "    cart = ShoppingCart()\n",
    "    \n",
    "    while True:\n",
    "        action = input(\"Enter 'search' to find a product, 'view' to see your cart, or 'exit' to quit: \").strip().lower()\n",
    "        if action == 'search':\n",
    "            product_name = input(\"Enter product name to search: \")\n",
    "            index = binary_search(products, product_name)\n",
    "            if index != -1:\n",
    "                cart.add_item(products[index])\n",
    "                print(f\"Added {products[index]['name']} to your cart.\")\n",
    "            else:\n",
    "                print(\"Product not found.\")\n",
    "        elif action == 'view':\n",
    "            print(\"Your cart contains:\")\n",
    "            for item in cart.view_cart():\n",
    "                print(f\"{item['name']} - ${item['price']:.2f}\")\n",
    "            print(f\"Total: ${cart.total_price():.2f}\")\n",
    "        elif action == 'exit':Car\n",
    "            break\n",
    "        else:\n",
    "            print(\"Invalid option, please try again.\")\n",
    "\n",
    "if __name__ == \"__main__\":\n",
    "    main()\n"
   ]
  },
  {
   "cell_type": "code",
   "execution_count": null,
   "id": "36b27ac1-bea7-44b1-9288-f71b858f0454",
   "metadata": {},
   "outputs": [],
   "source": []
  }
 ],
 "metadata": {
  "kernelspec": {
   "display_name": "Python 3 (ipykernel)",
   "language": "python",
   "name": "python3"
  },
  "language_info": {
   "codemirror_mode": {
    "name": "ipython",
    "version": 3
   },
   "file_extension": ".py",
   "mimetype": "text/x-python",
   "name": "python",
   "nbconvert_exporter": "python",
   "pygments_lexer": "ipython3",
   "version": "3.12.4"
  }
 },
 "nbformat": 4,
 "nbformat_minor": 5
}
